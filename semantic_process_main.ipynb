{
 "cells": [
  {
   "cell_type": "code",
   "execution_count": 2,
   "id": "fc222276",
   "metadata": {},
   "outputs": [],
   "source": [
    "import math\n",
    "def get_time_domain_features(data):\n",
    "    '''data为一维振动信号'''\n",
    "    x_rms = 0\n",
    "    absXbar = 0\n",
    "    x_r = 0\n",
    "    S = 0\n",
    "    K = 0\n",
    "    k = 0\n",
    "    x_rms = 0\n",
    "    fea = []\n",
    "#     len_ = len(data[0, :])\n",
    "    len_ = len(data)\n",
    "    mean_ = data.mean()  # 1.均值\n",
    "    var_ = data.var()  # 2.方差\n",
    "    std_ = data.std()  # 3.标准差\n",
    "    max_ = data.max()  # 4.最大值\n",
    "    min_ = data.min()  # 5.最小值\n",
    "    x_p = max(abs(max_), abs(min_))  # 6.峰值\n",
    "    for i in range(len_):\n",
    "        x_rms += data[i] ** 2\n",
    "        absXbar += abs(data[i])\n",
    "        x_r += math.sqrt(abs(data[i]))\n",
    "        S += (data[i] - mean_) ** 3\n",
    "        K += (data[i] - mean_) ** 4\n",
    "    x_rms = math.sqrt(x_rms / len_)  # 7.均方根值\n",
    "    absXbar = absXbar / len_  # 8.绝对平均值\n",
    "    x_r = (x_r / len_) ** 2  # 9.方根幅值\n",
    "    W = x_rms / mean_  # 10.波形指标\n",
    "    C = x_p / x_rms  # 11.峰值指标\n",
    "    I = x_p / mean_  # 12.脉冲指标\n",
    "    L = x_p / x_r  # 13.裕度指标\n",
    "    S = S / ((len_ - 1) * std_ ** 3)  # 14.偏斜度\n",
    "    K = K / ((len_ - 1) * std_ ** 4)  # 15.峭度\n",
    "\n",
    "    fea = [mean_,absXbar,var_,std_,x_r,x_rms,x_p,max_,min_,W,C,I,L,S,K]\n",
    "    return fea"
   ]
  },
  {
   "cell_type": "code",
   "execution_count": 3,
   "id": "a4bd670e",
   "metadata": {},
   "outputs": [
    {
     "name": "stdout",
     "output_type": "stream",
     "text": [
      "[0.015315796222753907, 0.9763206940983572, 1.505272128609742, 1.2268953209666023, 0.8248499262422846, 1.2269909136679087, 6.249333, 5.851092, -6.249333, 80.11277349361897, 5.0932186460277356, 408.03187174269664, 7.576327282309015, 0.011852199361455812, 3.067596564667717]\n",
      "[0.3213283252276561, 7.463245045713574, 155.35257476053982, 12.46405129805473, 5.363610654126942, 12.468192597691822, 120.4528, 113.7134, -120.4528, 38.80203399080458, 9.660806813515125, 374.8589543566104, 22.457409339978764, -0.04019100421950619, 11.753530250676551]\n",
      "[-0.10686271658136719, 5.216331052046255, 58.548499775853365, 7.651699143056617, 4.0404630356410856, 7.652445322641441, 56.67288, 56.67288, -46.90063, -71.61005790840748, 7.405852327009882, -530.3335139982919, 14.026332997007092, 0.09632248849686302, 7.15969261231357]\n",
      "[0.13945260771134774, 1.2049399848528068, 2.294178349203259, 1.5146545313051616, 1.0162057893644736, 1.5210606099031039, 8.271177, 8.271177, -8.148641, 10.907365841817313, 5.437769505139508, 59.3117413560345, 8.139273645717688, -0.002588920290872692, 3.197811235624501]\n"
     ]
    }
   ],
   "source": [
    "# 15个时域特征\n",
    "import numpy as np\n",
    "NF=np.loadtxt(\"./datas/orginal/fault_data_0HP_NF.txt\")\n",
    "NF_time_domain_features=get_time_domain_features(NF)\n",
    "print(NF_time_domain_features)\n",
    "\n",
    "IF=np.loadtxt(\"./datas/orginal/fault_data_0HP_IF.txt\")\n",
    "IF_time_domain_features=get_time_domain_features(IF)\n",
    "print(IF_time_domain_features)\n",
    "\n",
    "OF=np.loadtxt(\"./datas/orginal/fault_data_0HP_OF.txt\")\n",
    "OF_time_domain_features=get_time_domain_features(OF)\n",
    "print(OF_time_domain_features)\n",
    "\n",
    "BF=np.loadtxt(\"./datas/orginal/fault_data_0HP_BF.txt\")\n",
    "BF_time_domain_features=get_time_domain_features(BF)\n",
    "print(BF_time_domain_features)"
   ]
  },
  {
   "cell_type": "code",
   "execution_count": 4,
   "id": "5172013a",
   "metadata": {},
   "outputs": [],
   "source": [
    "import math\n",
    "def get_fre_domain_features(f,y):\n",
    "    fre_line_num = len(y)\n",
    "    print(fre_line_num)\n",
    "    p1 = y.mean()\n",
    "    p2 = math.sqrt(sum((y-p1)**2)/fre_line_num)\n",
    "    p3 = sum((y-p1)**3)/(fre_line_num*p2**3)\n",
    "    p4 = sum((y-p1)**4)/(fre_line_num*p2**4)\n",
    "    p5 = sum(f*y)/sum(y)\n",
    "    p6 = math.sqrt(sum((f-p5)**2*y)/fre_line_num)\n",
    "    p7 = math.sqrt(sum(f**2*y)/sum(y))\n",
    "    p8 = math.sqrt(sum(f**4*y)/sum(f**2*y))\n",
    "    p9 = sum(f**2*y)/math.sqrt(sum(y)*sum(f**4*y))\n",
    "    p10 = p6/p5\n",
    "    p11 = sum((f-p5)**3*y)/(p6**3*fre_line_num)\n",
    "    p12 = sum((f-p5)**4*y)/(p6**4*fre_line_num)\n",
    "    p13 = sum(abs(f-p5)*y)/(math.sqrt(p6)*fre_line_num)\n",
    "    p = [p1,p2,p3,p4,p5,p6,p7,p8,p9,p10,p11,p12,p13]\n",
    "    return p\n",
    "\n",
    "# fft\n",
    "def nextpow2(x):\n",
    "    if x == 0:\n",
    "        return 0 \n",
    "    else:\n",
    "        return int(np.ceil(np.log2(x)))\n",
    "    \n",
    "# 程序中的f是傅里叶变换之后的频率轴，y是傅里叶变换之后的幅值，也就是平时画的频谱图的x轴和y轴。\n",
    "def Do_fft(sig,Fs):#输入信号和采样频率\n",
    "    xlen = len(sig)\n",
    "    sig = sig - sig.mean()\n",
    "    NFFT = 2**nextpow2(xlen)\n",
    "    yf = np.fft.fft(sig,NFFT)/xlen*2\n",
    "    yf = abs(yf[0:int(NFFT/2+1)])\n",
    "    f = Fs/2*np.linspace(0,1,int(NFFT/2+1))\n",
    "    f = f[:]\n",
    "    return f,yf\n",
    "    #频域离散值的序号"
   ]
  },
  {
   "cell_type": "code",
   "execution_count": 5,
   "id": "9eee8d42",
   "metadata": {},
   "outputs": [
    {
     "name": "stdout",
     "output_type": "stream",
     "text": [
      "262145\n",
      "[0.0019407815355480728, 0.0028272356641416627, 5.167062016626567, 52.68180817901504, 12166.18459718596, 237.7466427693735, 13309.3997691069, 17285.217758451014, 0.7699873935692667, 0.019541594233607497, 8.019134922914615, 1488.1774784931886, 0.5446553213780821]\n",
      "262145\n",
      "[0.01764055347050667, 0.03004160838785143, 8.185471929813067, 140.7526115565986, 10162.74178064736, 837.1786342027359, 11958.75510533025, 17237.615208307987, 0.6937592561856532, 0.08237724152324258, 3.000768692014502, 113.08507091980876, 3.2043923733639117]\n",
      "262145\n",
      "[0.007633541515561737, 0.019978424733653195, 15.868655311363977, 488.77823858862536, 8804.60204294469, 464.78150995850046, 10286.887346522173, 15284.479648310939, 0.6730282995050445, 0.052788474446830845, 7.040948699608442, 374.1941816166449, 1.4848666308250662]\n",
      "262145\n",
      "[0.002538694939639802, 0.0033879534507194704, 5.364681025392464, 100.30973337199721, 11048.104817512165, 280.3765046428606, 12370.357168519842, 16630.733593401863, 0.7438251054317713, 0.02537779187236172, 5.7894604145660145, 1037.8243135941361, 0.6734179720662025]\n"
     ]
    }
   ],
   "source": [
    "# 13个频域特征\n",
    "import numpy as np\n",
    "NF=np.loadtxt(\"./datas/orginal/fault_data_0HP_NF.txt\")\n",
    "FS=51200\n",
    "f,y = Do_fft(NF, FS)\n",
    "NF_fre_domain_features = get_fre_domain_features(f,y)\n",
    "print(NF_fre_domain_features)\n",
    "\n",
    "IF=np.loadtxt(\"./datas/orginal/fault_data_0HP_IF.txt\")\n",
    "f,y = Do_fft(IF, FS)\n",
    "IF_fre_domain_features = get_fre_domain_features(f,y)\n",
    "print(IF_fre_domain_features)\n",
    "\n",
    "OF=np.loadtxt(\"./datas/orginal/fault_data_0HP_OF.txt\")\n",
    "f,y = Do_fft(OF, FS)\n",
    "OF_fre_domain_features = get_fre_domain_features(f,y)\n",
    "print(OF_fre_domain_features)\n",
    "\n",
    "BF=np.loadtxt(\"./datas/orginal/fault_data_0HP_BF.txt\")\n",
    "f,y = Do_fft(BF, FS)\n",
    "BF_fre_domain_features = get_fre_domain_features(f,y)\n",
    "print(BF_fre_domain_features)"
   ]
  },
  {
   "cell_type": "code",
   "execution_count": 14,
   "id": "f3517c06",
   "metadata": {},
   "outputs": [
    {
     "name": "stdout",
     "output_type": "stream",
     "text": [
      "(28,)\n",
      "(28,)\n",
      "(28,)\n",
      "(28,)\n"
     ]
    }
   ],
   "source": [
    "# 合并单一故障信号的28个时频域特征(28,)\n",
    "NF_S= []\n",
    "NF_S.append(NF_time_domain_features)\n",
    "NF_S.append(NF_fre_domain_features)\n",
    "NF_S = np.hstack(NF_S)\n",
    "print(NF_S.shape)\n",
    "\n",
    "IF_S= []\n",
    "IF_S.append(IF_time_domain_features)\n",
    "IF_S.append(IF_fre_domain_features)\n",
    "IF_S = np.hstack(IF_S)\n",
    "print(IF_S.shape)\n",
    "\n",
    "OF_S= []\n",
    "OF_S.append(OF_time_domain_features)\n",
    "OF_S.append(OF_fre_domain_features)\n",
    "OF_S = np.hstack(OF_S)\n",
    "print(OF_S.shape)\n",
    "\n",
    "BF_S= []\n",
    "BF_S.append(BF_time_domain_features)\n",
    "BF_S.append(BF_fre_domain_features)\n",
    "BF_S = np.hstack(BF_S)\n",
    "print(BF_S.shape)"
   ]
  },
  {
   "cell_type": "code",
   "execution_count": 7,
   "id": "3ea0dedc",
   "metadata": {},
   "outputs": [
    {
     "name": "stdout",
     "output_type": "stream",
     "text": [
      "[0.29, 0.0, 0.0, 0.0, 0.0, 0.0, 0.0, 0.0, 1.0, 1.0, 0.0, 1.0, 0.0, 0.38, 0.0, 0.0, 0.0, 0.0, 0.0, 1.0, 0.0, 1.0, 1.0, 1.0, 0.0, 1.0, 1.0, 0.0]\n",
      "[0.58, 0.04, 0.01, 0.03, 0.04, 0.03, 0.02, 0.02, 0.98, 0.54, 0.08, 0.63, 0.04, 0.28, 0.01, 0.04, 0.02, 0.02, 0.11, 0.67, 0.07, 0.69, 0.67, 0.73, 0.09, 0.56, 0.67, 0.05]\n",
      "[1.0, 1.0, 1.0, 1.0, 1.0, 1.0, 1.0, 1.0, 0.0, 0.73, 1.0, 0.96, 1.0, 0.0, 1.0, 1.0, 1.0, 0.28, 0.2, 0.4, 1.0, 0.55, 0.98, 0.21, 1.0, 0.0, 0.0, 1.0]\n",
      "[0.0, 0.65, 0.37, 0.57, 0.71, 0.57, 0.44, 0.47, 0.64, 0.0, 0.51, 0.0, 0.43, 1.0, 0.47, 0.36, 0.63, 1.0, 1.0, 0.0, 0.38, 0.0, 0.0, 0.0, 0.53, 0.81, 0.19, 0.35]\n"
     ]
    }
   ],
   "source": [
    "# 单一语义\n",
    "NF_S_normal = []\n",
    "IF_S_normal = []\n",
    "OF_S_normal = []\n",
    "BF_S_normal = []\n",
    "\n",
    "for i in range(28):\n",
    "    data = [NF_S[i],IF_S[i],OF_S[i],BF_S[i]]\n",
    "    max_value = max(data)\n",
    "    min_value= min(data)\n",
    "    \n",
    "    NF_S_normal.append(np.round((NF_S[i]-min_value)/(max_value-min_value),2)) #线性归一化，decimal=2保留两位\n",
    "    IF_S_normal.append(np.round((IF_S[i]-min_value)/(max_value-min_value),2))\n",
    "    OF_S_normal.append(np.round((OF_S[i]-min_value)/(max_value-min_value),2))\n",
    "    BF_S_normal.append(np.round((BF_S[i]-min_value)/(max_value-min_value),2))\n",
    "    \n",
    "print(NF_S_normal)\n",
    "print(BF_S_normal)\n",
    "print(IF_S_normal)\n",
    "print(OF_S_normal)"
   ]
  },
  {
   "cell_type": "code",
   "execution_count": 8,
   "id": "0bdc0f39",
   "metadata": {},
   "outputs": [
    {
     "name": "stdout",
     "output_type": "stream",
     "text": [
      "<class 'list'>\n"
     ]
    }
   ],
   "source": [
    "print(type(IF_S_normal))\n",
    "\n",
    "# 复合语义\n",
    "def function1(a,b,IF_S_normal,OF_S_normal,IO_S_normal):\n",
    "    for i in range(len(IF_S_normal)):\n",
    "        IO_S_normal[i] = np.round(a * IF_S_normal[i] + b * OF_S_normal[i],2) #加权求和，保留两位小数，构造双复合语义\n",
    "    \n",
    "    return IO_S_normal\n",
    "\n",
    "def function2(a,b,c,IF_S_normal,OF_S_normal,BF_S_normal,IOBF_S_normal): # 构造三复合语义\n",
    "    for i in range(len(IF_S_normal)):\n",
    "        IOBF_S_normal[i] = np.round(a * IF_S_normal[i] + b * OF_S_normal[i] + c * BF_S_normal[i],2)\n",
    "    \n",
    "    return IOBF_S_normal"
   ]
  },
  {
   "cell_type": "code",
   "execution_count": 15,
   "id": "47a5f474",
   "metadata": {},
   "outputs": [
    {
     "name": "stdout",
     "output_type": "stream",
     "text": [
      "<class 'list'>\n",
      "[0.5, 0.82, 0.68, 0.78, 0.86, 0.78, 0.72, 0.74, 0.32, 0.36, 0.76, 0.48, 0.72, 0.5, 0.74, 0.68, 0.82, 0.64, 0.6, 0.2, 0.69, 0.28, 0.49, 0.1, 0.76, 0.4, 0.1, 0.68]\n",
      "[0.96, 0.9, 0.9, 0.9, 0.9, 0.9, 0.9, 0.9, 0.1, 0.71, 0.91, 0.93, 0.9, 0.03, 0.9, 0.9, 0.9, 0.25, 0.19, 0.43, 0.91, 0.56, 0.95, 0.26, 0.91, 0.06, 0.07, 0.9]\n",
      "[0.06, 0.59, 0.33, 0.52, 0.64, 0.52, 0.4, 0.42, 0.67, 0.05, 0.47, 0.06, 0.39, 0.93, 0.42, 0.33, 0.57, 0.9, 0.91, 0.07, 0.35, 0.07, 0.07, 0.07, 0.49, 0.79, 0.24, 0.32]\n",
      "[0.51, 0.75, 0.62, 0.71, 0.77, 0.71, 0.65, 0.66, 0.39, 0.38, 0.69, 0.5, 0.65, 0.48, 0.66, 0.62, 0.74, 0.58, 0.55, 0.25, 0.63, 0.32, 0.51, 0.17, 0.7, 0.42, 0.15, 0.61]\n"
     ]
    }
   ],
   "source": [
    "IO_S_normal = [0]*len(IF_S_normal) #list\n",
    "IB_S_normal = [0]*len(IF_S_normal)\n",
    "OB_S_normal = [0]*len(IF_S_normal)\n",
    "IOB_S_normal = [0]*len(IF_S_normal)\n",
    "\n",
    "a1 = 0.5\n",
    "b1 = 0.5\n",
    "IO_S_normal = function1(a1,b1,IF_S_normal,OF_S_normal,IO_S_normal)\n",
    "\n",
    "a2 = 0.9\n",
    "b2 = 0.1\n",
    "# a2 = 0.5\n",
    "# b2 = 0.5\n",
    "IB_S_normal = function1(a2,b2,IF_S_normal,BF_S_normal,IB_S_normal)\n",
    "\n",
    "a3 = 0.9\n",
    "b3 = 0.1\n",
    "# a3 = 0.5\n",
    "# b3 = 0.5\n",
    "OB_S_normal = function1(a3,b3,OF_S_normal,BF_S_normal,OB_S_normal)\n",
    "\n",
    "a4 = 0.45\n",
    "b4 = 0.45\n",
    "c4 = 0.1\n",
    "# a4 = 0.33\n",
    "# b4 = 0.33\n",
    "# c4 = 0.33\n",
    "IOB_S_normal = function2(a4,b4,c4,IF_S_normal,OF_S_normal,BF_S_normal,IOB_S_normal)\n",
    "\n",
    "print(IO_S_normal)\n",
    "print(IB_S_normal)\n",
    "print(OB_S_normal)\n",
    "print(IOB_S_normal)"
   ]
  },
  {
   "cell_type": "code",
   "execution_count": 19,
   "id": "fcb8c856",
   "metadata": {},
   "outputs": [
    {
     "name": "stdout",
     "output_type": "stream",
     "text": [
      "(8, 28)\n"
     ]
    }
   ],
   "source": [
    "semantic_all = [NF_S_normal,IF_S_normal,OF_S_normal,BF_S_normal,IO_S_normal,IB_S_normal,OB_S_normal,IOB_S_normal]\n",
    "print(np.array(semantic_all).shape)\n",
    "np.save('./datas/semantic/semantic_all_28_2', semantic_all)"
   ]
  },
  {
   "cell_type": "code",
   "execution_count": null,
   "id": "77e3e47e",
   "metadata": {},
   "outputs": [],
   "source": []
  }
 ],
 "metadata": {
  "kernelspec": {
   "display_name": "pytorch",
   "language": "python",
   "name": "pytorch"
  },
  "language_info": {
   "codemirror_mode": {
    "name": "ipython",
    "version": 3
   },
   "file_extension": ".py",
   "mimetype": "text/x-python",
   "name": "python",
   "nbconvert_exporter": "python",
   "pygments_lexer": "ipython3",
   "version": "3.9.13"
  }
 },
 "nbformat": 4,
 "nbformat_minor": 5
}
